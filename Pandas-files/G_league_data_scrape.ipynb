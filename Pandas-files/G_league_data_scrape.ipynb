{
 "cells": [
  {
   "cell_type": "markdown",
   "metadata": {},
   "source": [
    "### Import libraries and run BeautifulSoup"
   ]
  },
  {
   "cell_type": "code",
   "execution_count": 1,
   "metadata": {},
   "outputs": [],
   "source": [
    "# Import Libraries\n",
    "from bs4 import BeautifulSoup\n",
    "import requests\n",
    "import pandas as pd\n",
    "from urllib.request import urlopen"
   ]
  },
  {
   "cell_type": "code",
   "execution_count": 2,
   "metadata": {},
   "outputs": [],
   "source": [
    "# Call the html for the G-league's main page.\n",
    "url = 'https://www.basketball-reference.com/gleague/'\n",
    "response = requests.get(url)\n",
    "soup = BeautifulSoup(response.text, 'html.parser')\n"
   ]
  },
  {
   "cell_type": "markdown",
   "metadata": {},
   "source": [
    "### Create list of team names and the list for 2nd BeautifulSoup"
   ]
  },
  {
   "cell_type": "code",
   "execution_count": 3,
   "metadata": {},
   "outputs": [
    {
     "data": {
      "text/plain": [
       "['SLS',\n",
       " 'MEM',\n",
       " 'AUS',\n",
       " 'STK',\n",
       " 'TEX',\n",
       " 'SAN',\n",
       " 'SFL',\n",
       " 'ACC',\n",
       " 'OKL',\n",
       " 'SBL',\n",
       " 'WOL',\n",
       " 'RIO',\n",
       " 'NAS',\n",
       " 'WIS',\n",
       " 'MAI',\n",
       " 'CAN',\n",
       " 'GRR',\n",
       " 'LKL',\n",
       " 'DBC',\n",
       " 'CGG',\n",
       " 'CPK',\n",
       " 'RAP',\n",
       " 'FOR',\n",
       " 'LIN',\n",
       " 'WES',\n",
       " 'WCB',\n",
       " 'EBH',\n",
       " 'SWR']"
      ]
     },
     "execution_count": 3,
     "metadata": {},
     "output_type": "execute_result"
    }
   ],
   "source": [
    "# The data we want are in the team's websites.  So we will first grab a list of team abbreviations.\n",
    "\n",
    "result1 = soup.find_all('th', class_='left')\n",
    "team_names = []\n",
    "for result in result1:\n",
    "    team_names.append(result.text)\n",
    "del team_names[0]    \n",
    "del team_names[13]    \n",
    "\n",
    "team_names    "
   ]
  },
  {
   "cell_type": "code",
   "execution_count": 4,
   "metadata": {},
   "outputs": [],
   "source": [
    "# We can now run Beautiful soup on each team's page.  Index [1] corresponds to Memphis' team (MEM)\n",
    "\n",
    "team = team_names[1]\n",
    "year = 2020\n",
    "url2 = 'https://www.basketball-reference.com/gleague/teams/{}/{}.html'.format(team, year)\n",
    "html2 = urlopen(url2)\n",
    "soup2 = BeautifulSoup(html2)"
   ]
  },
  {
   "cell_type": "markdown",
   "metadata": {
    "slideshow": {
     "slide_type": "-"
    }
   },
   "source": [
    "### Get Player names for each team "
   ]
  },
  {
   "cell_type": "code",
   "execution_count": 5,
   "metadata": {},
   "outputs": [
    {
     "data": {
      "text/plain": [
       "['Dusty Hannahs',\n",
       " 'Josh Jackson',\n",
       " 'Marko Guduric',\n",
       " 'Jarrod Uthoff',\n",
       " 'Yuta Watanabe',\n",
       " \"De'Anthony Melton\",\n",
       " 'Marquis Teague',\n",
       " 'Matt Mooney',\n",
       " 'John Konchar',\n",
       " 'Bruno Caboclo',\n",
       " 'Shaq Buchanan',\n",
       " 'Ahmad Caver',\n",
       " 'Rahlir Hollis-Jefferson',\n",
       " 'Venky Jois',\n",
       " 'Nino Johnson',\n",
       " 'Raynere Thornton',\n",
       " 'Phil Cofer']"
      ]
     },
     "execution_count": 5,
     "metadata": {},
     "output_type": "execute_result"
    }
   ],
   "source": [
    "# The player names are unique in that they use a class \"left\" table data.\n",
    "\n",
    "result1 = soup2.find_all('td', class_='left')\n",
    "names = []\n",
    "for result in result1:\n",
    "    names.append(result.a.text) \n",
    "names    \n"
   ]
  },
  {
   "cell_type": "markdown",
   "metadata": {},
   "source": [
    "### Get column headers"
   ]
  },
  {
   "cell_type": "code",
   "execution_count": 6,
   "metadata": {},
   "outputs": [
    {
     "data": {
      "text/plain": [
       "['Player',\n",
       " 'G',\n",
       " 'GS',\n",
       " 'MP',\n",
       " 'FG',\n",
       " 'FGA',\n",
       " 'FG%',\n",
       " '3P',\n",
       " '3PA',\n",
       " '3P%',\n",
       " '2P',\n",
       " '2PA',\n",
       " '2P%',\n",
       " 'FT',\n",
       " 'FTA',\n",
       " 'FT%',\n",
       " 'ORB',\n",
       " 'DRB',\n",
       " 'TRB',\n",
       " 'AST',\n",
       " 'STL',\n",
       " 'BLK',\n",
       " 'TOV',\n",
       " 'PF',\n",
       " 'PTS']"
      ]
     },
     "execution_count": 6,
     "metadata": {},
     "output_type": "execute_result"
    }
   ],
   "source": [
    "# Find all the table rows.  The info we need is on the fourth table row.\n",
    "souper = soup2.findAll('tr', limit=5)\n",
    "# create list of headers.  Append each table header\n",
    "headers = []\n",
    "for th in souper[3].findAll('th'):\n",
    "    headers.append(th.getText())\n",
    "headers = headers[0:]\n",
    "\n",
    "# We delete the first header.  We don't need \"Rank\" data, and that table data will not be found in our search below.\n",
    "del headers[0]\n",
    "headers"
   ]
  },
  {
   "cell_type": "code",
   "execution_count": 7,
   "metadata": {},
   "outputs": [
    {
     "data": {
      "text/plain": [
       "['Dusty Hannahs',\n",
       " '35',\n",
       " '22',\n",
       " '30.4',\n",
       " '7.4',\n",
       " '15.6',\n",
       " '.472',\n",
       " '3.2',\n",
       " '7.0',\n",
       " '.461',\n",
       " '4.1',\n",
       " '8.6',\n",
       " '.480',\n",
       " '1.9',\n",
       " '2.1',\n",
       " '.907',\n",
       " '0.4',\n",
       " '1.8',\n",
       " '2.2',\n",
       " '1.9',\n",
       " '0.6',\n",
       " '0.1',\n",
       " '1.7',\n",
       " '2.2',\n",
       " '21.1']"
      ]
     },
     "execution_count": 7,
     "metadata": {},
     "output_type": "execute_result"
    }
   ],
   "source": [
    "# We find all the table rows, and extract the table data in each row.\n",
    "# The end result is a list of lists. Each sub-list has 25 entries.\n",
    "rows = soup2.findAll('tr')[1:]\n",
    "player_stats = [[td.getText() for td in rows[i].findAll('td')]\n",
    "            for i in range(len(rows))]\n",
    "\n",
    "# The first two stats groups are team totals.  The third stat group is an empty set.  We delete these.\n",
    "del player_stats[0:3]\n",
    "player_stats[0]"
   ]
  },
  {
   "cell_type": "code",
   "execution_count": 8,
   "metadata": {},
   "outputs": [
    {
     "name": "stdout",
     "output_type": "stream",
     "text": [
      "The length of column headers is: 25\n",
      "The length of columns of data is: 25\n"
     ]
    }
   ],
   "source": [
    "# This is just a check that the number of column headers and number of data points per column is equal.\n",
    "print(\"The length of column headers is: \" + str(len(headers)))\n",
    "print(\"The length of columns of data is: \" + str(len(player_stats[0])))\n"
   ]
  },
  {
   "cell_type": "markdown",
   "metadata": {},
   "source": [
    "### Create Pandas DataFrame for each team"
   ]
  },
  {
   "cell_type": "code",
   "execution_count": 9,
   "metadata": {},
   "outputs": [
    {
     "data": {
      "text/html": [
       "<div>\n",
       "<style scoped>\n",
       "    .dataframe tbody tr th:only-of-type {\n",
       "        vertical-align: middle;\n",
       "    }\n",
       "\n",
       "    .dataframe tbody tr th {\n",
       "        vertical-align: top;\n",
       "    }\n",
       "\n",
       "    .dataframe thead th {\n",
       "        text-align: right;\n",
       "    }\n",
       "</style>\n",
       "<table border=\"1\" class=\"dataframe\">\n",
       "  <thead>\n",
       "    <tr style=\"text-align: right;\">\n",
       "      <th></th>\n",
       "      <th>Player</th>\n",
       "      <th>G</th>\n",
       "      <th>PTS</th>\n",
       "    </tr>\n",
       "  </thead>\n",
       "  <tbody>\n",
       "    <tr>\n",
       "      <td>0</td>\n",
       "      <td>Dusty Hannahs</td>\n",
       "      <td>35</td>\n",
       "      <td>21.1</td>\n",
       "    </tr>\n",
       "    <tr>\n",
       "      <td>1</td>\n",
       "      <td>Josh Jackson</td>\n",
       "      <td>26</td>\n",
       "      <td>20.4</td>\n",
       "    </tr>\n",
       "    <tr>\n",
       "      <td>2</td>\n",
       "      <td>Marko Guduric</td>\n",
       "      <td>1</td>\n",
       "      <td>20.0</td>\n",
       "    </tr>\n",
       "    <tr>\n",
       "      <td>3</td>\n",
       "      <td>Jarrod Uthoff</td>\n",
       "      <td>34</td>\n",
       "      <td>19.0</td>\n",
       "    </tr>\n",
       "    <tr>\n",
       "      <td>4</td>\n",
       "      <td>Yuta Watanabe</td>\n",
       "      <td>22</td>\n",
       "      <td>17.2</td>\n",
       "    </tr>\n",
       "    <tr>\n",
       "      <td>5</td>\n",
       "      <td>De'Anthony Melton</td>\n",
       "      <td>2</td>\n",
       "      <td>17.0</td>\n",
       "    </tr>\n",
       "    <tr>\n",
       "      <td>6</td>\n",
       "      <td>Marquis Teague</td>\n",
       "      <td>39</td>\n",
       "      <td>13.1</td>\n",
       "    </tr>\n",
       "    <tr>\n",
       "      <td>7</td>\n",
       "      <td>Matt Mooney</td>\n",
       "      <td>24</td>\n",
       "      <td>12.6</td>\n",
       "    </tr>\n",
       "    <tr>\n",
       "      <td>8</td>\n",
       "      <td>John Konchar</td>\n",
       "      <td>20</td>\n",
       "      <td>12.2</td>\n",
       "    </tr>\n",
       "    <tr>\n",
       "      <td>9</td>\n",
       "      <td>Bruno Caboclo</td>\n",
       "      <td>2</td>\n",
       "      <td>11.5</td>\n",
       "    </tr>\n",
       "    <tr>\n",
       "      <td>10</td>\n",
       "      <td>Shaq Buchanan</td>\n",
       "      <td>31</td>\n",
       "      <td>10.6</td>\n",
       "    </tr>\n",
       "    <tr>\n",
       "      <td>11</td>\n",
       "      <td>Ahmad Caver</td>\n",
       "      <td>37</td>\n",
       "      <td>9.6</td>\n",
       "    </tr>\n",
       "    <tr>\n",
       "      <td>12</td>\n",
       "      <td>Rahlir Hollis-Jefferson</td>\n",
       "      <td>33</td>\n",
       "      <td>6.2</td>\n",
       "    </tr>\n",
       "    <tr>\n",
       "      <td>13</td>\n",
       "      <td>Venky Jois</td>\n",
       "      <td>16</td>\n",
       "      <td>5.9</td>\n",
       "    </tr>\n",
       "    <tr>\n",
       "      <td>14</td>\n",
       "      <td>Nino Johnson</td>\n",
       "      <td>34</td>\n",
       "      <td>3.7</td>\n",
       "    </tr>\n",
       "    <tr>\n",
       "      <td>15</td>\n",
       "      <td>Raynere Thornton</td>\n",
       "      <td>26</td>\n",
       "      <td>3.3</td>\n",
       "    </tr>\n",
       "    <tr>\n",
       "      <td>16</td>\n",
       "      <td>Phil Cofer</td>\n",
       "      <td>2</td>\n",
       "      <td>2.0</td>\n",
       "    </tr>\n",
       "  </tbody>\n",
       "</table>\n",
       "</div>"
      ],
      "text/plain": [
       "                     Player   G   PTS\n",
       "0             Dusty Hannahs  35  21.1\n",
       "1              Josh Jackson  26  20.4\n",
       "2             Marko Guduric   1  20.0\n",
       "3             Jarrod Uthoff  34  19.0\n",
       "4             Yuta Watanabe  22  17.2\n",
       "5         De'Anthony Melton   2  17.0\n",
       "6            Marquis Teague  39  13.1\n",
       "7               Matt Mooney  24  12.6\n",
       "8              John Konchar  20  12.2\n",
       "9             Bruno Caboclo   2  11.5\n",
       "10            Shaq Buchanan  31  10.6\n",
       "11              Ahmad Caver  37   9.6\n",
       "12  Rahlir Hollis-Jefferson  33   6.2\n",
       "13               Venky Jois  16   5.9\n",
       "14             Nino Johnson  34   3.7\n",
       "15         Raynere Thornton  26   3.3\n",
       "16               Phil Cofer   2   2.0"
      ]
     },
     "execution_count": 9,
     "metadata": {},
     "output_type": "execute_result"
    }
   ],
   "source": [
    "# Create the datafame\n",
    "stats_prime = pd.DataFrame(player_stats, columns = headers)\n",
    "# We only need Three columns of data from this dataframe\n",
    "stats = stats_prime.loc[:, [\"Player\", \"G\", \"PTS\"]]\n",
    "# Write the data onto a csv file.  \n",
    "stats.to_csv('../csv-files/G-League_Data_Scrape_{}_{}.csv'.format(team, year),index=False)\n",
    "stats"
   ]
  }
 ],
 "metadata": {
  "kernelspec": {
   "display_name": "Python 3.7.4 64-bit ('paulk': virtualenv)",
   "language": "python",
   "name": "python37464bitpaulkvirtualenv88c5c39ac41f48259926c1151b67c0e9"
  },
  "language_info": {
   "codemirror_mode": {
    "name": "ipython",
    "version": 3
   },
   "file_extension": ".py",
   "mimetype": "text/x-python",
   "name": "python",
   "nbconvert_exporter": "python",
   "pygments_lexer": "ipython3",
   "version": "3.7.4"
  },
  "nteract": {
   "version": "0.12.3"
  }
 },
 "nbformat": 4,
 "nbformat_minor": 2
}
